{
 "cells": [
  {
   "cell_type": "code",
   "execution_count": 4,
   "id": "7c478e0b-3d95-4c2e-b4a3-e15dadb3de81",
   "metadata": {},
   "outputs": [
    {
     "data": {
      "text/plain": [
       "'%.2f'"
      ]
     },
     "execution_count": 4,
     "metadata": {},
     "output_type": "execute_result"
    }
   ],
   "source": [
    "import numpy as np\n",
    "import pandas as pd\n",
    "%precision %.2f"
   ]
  },
  {
   "cell_type": "code",
   "execution_count": 9,
   "id": "840b40ba-90d1-48a2-801a-8accac5d8341",
   "metadata": {},
   "outputs": [],
   "source": [
    "#### create test multidimensional array of length A, B, C, and D for the first, second, third, and fourth dimensions\n",
    "A = 5 #The 1st dimension\n",
    "B = 2 #The 2nd dimension\n",
    "C = 2 #The 3rd dimension\n",
    "D = 3 #The 1st dimension"
   ]
  },
  {
   "cell_type": "code",
   "execution_count": 17,
   "id": "bd877401-6ff5-452d-a843-04adea230c7b",
   "metadata": {},
   "outputs": [],
   "source": [
    "##capital latin letters are vectors and small letters are the components\n",
    "##the Order of the THETA array is a, b, c, and d\n",
    "##the Order of the associated nest for loop of THETA must also be a, b, c d\n",
    "##The associated nested for loop is constructed or defined to iterate completely through every element of the array\n",
    "THETA = []\n",
    "for a in range(A):                      # a\n",
    "    E = []\n",
    "    for b in range(B):                  # b\n",
    "        F = [] \n",
    "        for c in range(C):              # c\n",
    "            G = []\n",
    "            for d in range(D):          # d\n",
    "                if   d == 0 % D:\n",
    "                    H = True\n",
    "                elif d == 1 % D:\n",
    "                    H = False\n",
    "                elif d == 2 % D:\n",
    "                    H = None\n",
    "                G.append(HA)\n",
    "            F.append(G)\n",
    "        E.append(F)\n",
    "    THETA.append(E)"
   ]
  },
  {
   "cell_type": "code",
   "execution_count": 18,
   "id": "e31d1727-b39d-4178-ab1e-729823d9e99a",
   "metadata": {},
   "outputs": [
    {
     "data": {
      "text/html": [
       "<div>\n",
       "<style scoped>\n",
       "    .dataframe tbody tr th:only-of-type {\n",
       "        vertical-align: middle;\n",
       "    }\n",
       "\n",
       "    .dataframe tbody tr th {\n",
       "        vertical-align: top;\n",
       "    }\n",
       "\n",
       "    .dataframe thead th {\n",
       "        text-align: right;\n",
       "    }\n",
       "</style>\n",
       "<table border=\"1\" class=\"dataframe\">\n",
       "  <thead>\n",
       "    <tr style=\"text-align: right;\">\n",
       "      <th></th>\n",
       "      <th>0</th>\n",
       "      <th>1</th>\n",
       "    </tr>\n",
       "  </thead>\n",
       "  <tbody>\n",
       "    <tr>\n",
       "      <th>0</th>\n",
       "      <td>[[True, False, None], [True, False, None]]</td>\n",
       "      <td>[[True, False, None], [True, False, None]]</td>\n",
       "    </tr>\n",
       "    <tr>\n",
       "      <th>1</th>\n",
       "      <td>[[True, False, None], [True, False, None]]</td>\n",
       "      <td>[[True, False, None], [True, False, None]]</td>\n",
       "    </tr>\n",
       "    <tr>\n",
       "      <th>2</th>\n",
       "      <td>[[True, False, None], [True, False, None]]</td>\n",
       "      <td>[[True, False, None], [True, False, None]]</td>\n",
       "    </tr>\n",
       "    <tr>\n",
       "      <th>3</th>\n",
       "      <td>[[True, False, None], [True, False, None]]</td>\n",
       "      <td>[[True, False, None], [True, False, None]]</td>\n",
       "    </tr>\n",
       "    <tr>\n",
       "      <th>4</th>\n",
       "      <td>[[True, False, None], [True, False, None]]</td>\n",
       "      <td>[[True, False, None], [True, False, None]]</td>\n",
       "    </tr>\n",
       "  </tbody>\n",
       "</table>\n",
       "</div>"
      ],
      "text/plain": [
       "                                            0  \\\n",
       "0  [[True, False, None], [True, False, None]]   \n",
       "1  [[True, False, None], [True, False, None]]   \n",
       "2  [[True, False, None], [True, False, None]]   \n",
       "3  [[True, False, None], [True, False, None]]   \n",
       "4  [[True, False, None], [True, False, None]]   \n",
       "\n",
       "                                            1  \n",
       "0  [[True, False, None], [True, False, None]]  \n",
       "1  [[True, False, None], [True, False, None]]  \n",
       "2  [[True, False, None], [True, False, None]]  \n",
       "3  [[True, False, None], [True, False, None]]  \n",
       "4  [[True, False, None], [True, False, None]]  "
      ]
     },
     "execution_count": 18,
     "metadata": {},
     "output_type": "execute_result"
    }
   ],
   "source": [
    "pd.DataFrame(THETA)"
   ]
  },
  {
   "cell_type": "code",
   "execution_count": 19,
   "id": "8d8ff921-46b1-45e8-b5ec-01f15a58eb27",
   "metadata": {},
   "outputs": [
    {
     "data": {
      "text/plain": [
       "[[[[True, False, None], [True, False, None]],\n",
       "  [[True, False, None], [True, False, None]]],\n",
       " [[[True, False, None], [True, False, None]],\n",
       "  [[True, False, None], [True, False, None]]],\n",
       " [[[True, False, None], [True, False, None]],\n",
       "  [[True, False, None], [True, False, None]]],\n",
       " [[[True, False, None], [True, False, None]],\n",
       "  [[True, False, None], [True, False, None]]],\n",
       " [[[True, False, None], [True, False, None]],\n",
       "  [[True, False, None], [True, False, None]]]]"
      ]
     },
     "execution_count": 19,
     "metadata": {},
     "output_type": "execute_result"
    }
   ],
   "source": [
    "THETA"
   ]
  },
  {
   "cell_type": "code",
   "execution_count": 20,
   "id": "0ee2ae85-205f-41cd-84dd-e59bb34d922c",
   "metadata": {},
   "outputs": [],
   "source": [
    "# for a in range(A):\n",
    "#     print(THETA[a])\n",
    "#     if a % 2 == 1:\n",
    "#         THETA[a] = [[[1, 3.14, None], [2, 0.70, False]],\n",
    "#                     [[True, False, None], [True, False, None]]]\n",
    "#     a+=1"
   ]
  },
  {
   "cell_type": "code",
   "execution_count": 21,
   "id": "949a827a-8ceb-4680-b46f-8d43c7b40ced",
   "metadata": {},
   "outputs": [
    {
     "data": {
      "text/plain": [
       "[[[[True, False, None], [True, False, None]],\n",
       "  [[True, False, None], [True, False, None]]],\n",
       " [[[True, False, None], [True, False, None]],\n",
       "  [[True, False, None], [True, False, None]]],\n",
       " [[[True, False, None], [True, False, None]],\n",
       "  [[True, False, None], [True, False, None]]],\n",
       " [[[True, False, None], [True, False, None]],\n",
       "  [[True, False, None], [True, False, None]]],\n",
       " [[[True, False, None], [True, False, None]],\n",
       "  [[True, False, None], [True, False, None]]]]"
      ]
     },
     "execution_count": 21,
     "metadata": {},
     "output_type": "execute_result"
    }
   ],
   "source": [
    "#### Here the array THETA is defined to have 4 dimensions labelled a, b, c, and d in exactly that order\n",
    "THETA"
   ]
  },
  {
   "cell_type": "code",
   "execution_count": 23,
   "id": "cbc94444-44b9-42b7-93f6-6f2600dec615",
   "metadata": {},
   "outputs": [],
   "source": [
    "#PHI is the \"transetted\" matrix defined to have 4 dimensions labelled i, j, k, and l in that order\n",
    "#the order of the for loop is therefore I, J, K, L\n",
    "\n",
    "I = A ##  I = 5\n",
    "J = B ##  J = 2\n",
    "K = D ##  K = 3\n",
    "L = C ##  L = 2\n",
    "\n",
    "\n",
    "##The desired output matrix PHI is required to have swapped the 3rd and 4th dimension hence K = D and L = C, therefore the order of the associated for loop \n",
    "## relative to theta is  a, b, d, and c\n",
    "\n",
    "PHI = []  ## this is the input array\n",
    "\n",
    "for i in range(A):                      # a \n",
    "    M = []\n",
    "    for j in range(B):                  # b\n",
    "        N = [] \n",
    "        for k in range(D):              # d\n",
    "            O = []\n",
    "            for l in range(C):          # c   \n",
    "                P = THETA[i][j][l][k]   ## the input array always goes here\n",
    "                O.append(P)\n",
    "            N.append(O)\n",
    "        M.append(N)\n",
    "    PHI.append(M)"
   ]
  },
  {
   "cell_type": "code",
   "execution_count": 24,
   "id": "3f73e6aa-de70-4f04-98f3-aaa3de790917",
   "metadata": {},
   "outputs": [
    {
     "data": {
      "text/plain": [
       "[[[[True, True], [False, False], [None, None]],\n",
       "  [[True, True], [False, False], [None, None]]],\n",
       " [[[True, True], [False, False], [None, None]],\n",
       "  [[True, True], [False, False], [None, None]]],\n",
       " [[[True, True], [False, False], [None, None]],\n",
       "  [[True, True], [False, False], [None, None]]],\n",
       " [[[True, True], [False, False], [None, None]],\n",
       "  [[True, True], [False, False], [None, None]]],\n",
       " [[[True, True], [False, False], [None, None]],\n",
       "  [[True, True], [False, False], [None, None]]]]"
      ]
     },
     "execution_count": 24,
     "metadata": {},
     "output_type": "execute_result"
    }
   ],
   "source": [
    "PHI"
   ]
  },
  {
   "cell_type": "code",
   "execution_count": 25,
   "id": "7d34081b-978b-49a7-bcbe-f4548e9c72bc",
   "metadata": {},
   "outputs": [
    {
     "data": {
      "text/plain": [
       "[[[[True, False, None], [True, False, None]],\n",
       "  [[True, False, None], [True, False, None]]],\n",
       " [[[True, False, None], [True, False, None]],\n",
       "  [[True, False, None], [True, False, None]]],\n",
       " [[[True, False, None], [True, False, None]],\n",
       "  [[True, False, None], [True, False, None]]],\n",
       " [[[True, False, None], [True, False, None]],\n",
       "  [[True, False, None], [True, False, None]]],\n",
       " [[[True, False, None], [True, False, None]],\n",
       "  [[True, False, None], [True, False, None]]]]"
      ]
     },
     "execution_count": 25,
     "metadata": {},
     "output_type": "execute_result"
    }
   ],
   "source": [
    "THETA"
   ]
  },
  {
   "cell_type": "code",
   "execution_count": 26,
   "id": "4f05ba01-1489-483a-8404-80507d7f579b",
   "metadata": {},
   "outputs": [],
   "source": [
    "###its hard to imagine but what happened was 2 dimensions got transposed just as what the Order for PHI and THETA were defined to be relative to each other"
   ]
  },
  {
   "cell_type": "code",
   "execution_count": 30,
   "id": "7887d671-cafb-44b8-95be-610a97de7d89",
   "metadata": {},
   "outputs": [],
   "source": [
    "Q = D\n",
    "R = B\n",
    "S = C\n",
    "T = A\n",
    "\n",
    "GAMMA = [] ##input array\n",
    "for q in range(D):                      # a \n",
    "    M = []\n",
    "    for r in range(B):                  # b\n",
    "        N = [] \n",
    "        for s in range(C):              # d\n",
    "            O = []\n",
    "            for t in range(A):          # c   \n",
    "                P = THETA[t][r][s][q]   ## the input array always goes here\n",
    "                O.append(P)\n",
    "            N.append(O)\n",
    "        M.append(N)\n",
    "    GAMMA.append(M)"
   ]
  },
  {
   "cell_type": "code",
   "execution_count": 31,
   "id": "fd7fc587-82c8-4cb7-872a-e9478a4d1313",
   "metadata": {},
   "outputs": [
    {
     "data": {
      "text/plain": [
       "[[[[True, True, True, True, True], [True, True, True, True, True]],\n",
       "  [[True, True, True, True, True], [True, True, True, True, True]]],\n",
       " [[[False, False, False, False, False], [False, False, False, False, False]],\n",
       "  [[False, False, False, False, False], [False, False, False, False, False]]],\n",
       " [[[None, None, None, None, None], [None, None, None, None, None]],\n",
       "  [[None, None, None, None, None], [None, None, None, None, None]]]]"
      ]
     },
     "execution_count": 31,
     "metadata": {},
     "output_type": "execute_result"
    }
   ],
   "source": [
    "GAMMA"
   ]
  },
  {
   "cell_type": "code",
   "execution_count": null,
   "id": "d56ddae7-d301-4976-a31b-5f240fa22ae4",
   "metadata": {},
   "outputs": [],
   "source": []
  }
 ],
 "metadata": {
  "kernelspec": {
   "display_name": "Python 3 (ipykernel)",
   "language": "python",
   "name": "python3"
  },
  "language_info": {
   "codemirror_mode": {
    "name": "ipython",
    "version": 3
   },
   "file_extension": ".py",
   "mimetype": "text/x-python",
   "name": "python",
   "nbconvert_exporter": "python",
   "pygments_lexer": "ipython3",
   "version": "3.9.7"
  }
 },
 "nbformat": 4,
 "nbformat_minor": 5
}
